{
  "nbformat": 4,
  "nbformat_minor": 0,
  "metadata": {
    "colab": {
      "provenance": [],
      "authorship_tag": "ABX9TyM2Q+SQkwpADGWIgQCcPqVc",
      "include_colab_link": true
    },
    "kernelspec": {
      "name": "python3",
      "display_name": "Python 3"
    },
    "language_info": {
      "name": "python"
    }
  },
  "cells": [
    {
      "cell_type": "markdown",
      "metadata": {
        "id": "view-in-github",
        "colab_type": "text"
      },
      "source": [
        "<a href=\"https://colab.research.google.com/github/Aiswarya-M-Ajay/AI-for-Cyber/blob/main/Untitled34.ipynb\" target=\"_parent\"><img src=\"https://colab.research.google.com/assets/colab-badge.svg\" alt=\"Open In Colab\"/></a>"
      ]
    },
    {
      "cell_type": "code",
      "execution_count": 4,
      "metadata": {
        "colab": {
          "base_uri": "https://localhost:8080/"
        },
        "id": "63lRzcsDx5HH",
        "outputId": "08d2ec84-f21a-4889-b1fa-cb70e0689e6b"
      },
      "outputs": [
        {
          "output_type": "stream",
          "name": "stdout",
          "text": [
            "[ 1.    8.25 15.5  22.75 30.  ]\n"
          ]
        }
      ],
      "source": [
        "import numpy as np\n",
        "arr9=np.linspace(1,30,5)\n",
        "print(arr9)"
      ]
    },
    {
      "cell_type": "code",
      "source": [
        "arr10=np.arange(10,81,2).reshape(6,6)\n",
        "print(arr10)"
      ],
      "metadata": {
        "colab": {
          "base_uri": "https://localhost:8080/"
        },
        "id": "Bok_XHo8y0_P",
        "outputId": "cf6e2d9b-1d4f-453b-dcba-00c90fc6cdb6"
      },
      "execution_count": 6,
      "outputs": [
        {
          "output_type": "stream",
          "name": "stdout",
          "text": [
            "[[10 12 14 16 18 20]\n",
            " [22 24 26 28 30 32]\n",
            " [34 36 38 40 42 44]\n",
            " [46 48 50 52 54 56]\n",
            " [58 60 62 64 66 68]\n",
            " [70 72 74 76 78 80]]\n"
          ]
        }
      ]
    },
    {
      "cell_type": "code",
      "source": [
        "arr10[:,[0,2]]\n"
      ],
      "metadata": {
        "colab": {
          "base_uri": "https://localhost:8080/"
        },
        "id": "gSjTrPruzGMA",
        "outputId": "7627eedc-68fc-48fd-b6ba-10b62e0f6618"
      },
      "execution_count": 8,
      "outputs": [
        {
          "output_type": "execute_result",
          "data": {
            "text/plain": [
              "array([[10, 14],\n",
              "       [22, 26],\n",
              "       [34, 38],\n",
              "       [46, 50],\n",
              "       [58, 62],\n",
              "       [70, 74]])"
            ]
          },
          "metadata": {},
          "execution_count": 8
        }
      ]
    },
    {
      "cell_type": "code",
      "source": [
        "arr10[:2,:]"
      ],
      "metadata": {
        "colab": {
          "base_uri": "https://localhost:8080/"
        },
        "id": "bgSGkwxNzgPF",
        "outputId": "e568c64f-b7f7-46ca-c700-9c73025c6599"
      },
      "execution_count": 9,
      "outputs": [
        {
          "output_type": "execute_result",
          "data": {
            "text/plain": [
              "array([[10, 12, 14, 16, 18, 20],\n",
              "       [22, 24, 26, 28, 30, 32]])"
            ]
          },
          "metadata": {},
          "execution_count": 9
        }
      ]
    },
    {
      "cell_type": "code",
      "source": [
        "arr11=np.array([38,40,42,50])\n",
        "arr11"
      ],
      "metadata": {
        "colab": {
          "base_uri": "https://localhost:8080/"
        },
        "id": "xMhX-_Fdzqu8",
        "outputId": "0e5112e2-6935-4d4a-e4e7-aae893db483d"
      },
      "execution_count": 11,
      "outputs": [
        {
          "output_type": "execute_result",
          "data": {
            "text/plain": [
              "array([38, 40, 42, 50])"
            ]
          },
          "metadata": {},
          "execution_count": 11
        }
      ]
    },
    {
      "cell_type": "code",
      "source": [
        "np.sum(arr11)"
      ],
      "metadata": {
        "colab": {
          "base_uri": "https://localhost:8080/"
        },
        "id": "blGVgxSX0RJU",
        "outputId": "9bac8196-1d5c-4f34-db27-6e6b107dc110"
      },
      "execution_count": 12,
      "outputs": [
        {
          "output_type": "execute_result",
          "data": {
            "text/plain": [
              "170"
            ]
          },
          "metadata": {},
          "execution_count": 12
        }
      ]
    },
    {
      "cell_type": "code",
      "source": [
        "np.mean(arr11)"
      ],
      "metadata": {
        "colab": {
          "base_uri": "https://localhost:8080/"
        },
        "id": "E-rAwH3g0scE",
        "outputId": "21ca5e5e-5906-496f-b034-d27ec0a39c63"
      },
      "execution_count": 13,
      "outputs": [
        {
          "output_type": "execute_result",
          "data": {
            "text/plain": [
              "42.5"
            ]
          },
          "metadata": {},
          "execution_count": 13
        }
      ]
    },
    {
      "cell_type": "code",
      "source": [
        "np.median(arr11)"
      ],
      "metadata": {
        "colab": {
          "base_uri": "https://localhost:8080/"
        },
        "id": "J_5W9Gt40ww0",
        "outputId": "b9f1a50a-5232-45f8-c37d-a1b565280eb2"
      },
      "execution_count": 14,
      "outputs": [
        {
          "output_type": "execute_result",
          "data": {
            "text/plain": [
              "41.0"
            ]
          },
          "metadata": {},
          "execution_count": 14
        }
      ]
    },
    {
      "cell_type": "code",
      "source": [
        "arr11=arr11.reshape(2,2)\n",
        "arr11"
      ],
      "metadata": {
        "colab": {
          "base_uri": "https://localhost:8080/"
        },
        "id": "m2pPldWL02SY",
        "outputId": "07658786-dc4f-4ce3-cf2d-991abde24ad6"
      },
      "execution_count": 15,
      "outputs": [
        {
          "output_type": "execute_result",
          "data": {
            "text/plain": [
              "array([[38, 40],\n",
              "       [42, 50]])"
            ]
          },
          "metadata": {},
          "execution_count": 15
        }
      ]
    },
    {
      "cell_type": "code",
      "source": [
        "arr11.sum(axis=1)"
      ],
      "metadata": {
        "colab": {
          "base_uri": "https://localhost:8080/"
        },
        "id": "iBhQm5yG1DJE",
        "outputId": "80f6ffdd-2667-4db2-897d-75cff54559a0"
      },
      "execution_count": 16,
      "outputs": [
        {
          "output_type": "execute_result",
          "data": {
            "text/plain": [
              "array([78, 92])"
            ]
          },
          "metadata": {},
          "execution_count": 16
        }
      ]
    },
    {
      "cell_type": "code",
      "source": [
        "arr11.sum(axis=0)"
      ],
      "metadata": {
        "colab": {
          "base_uri": "https://localhost:8080/"
        },
        "id": "dU-9mQ2s1hnM",
        "outputId": "5d7e3aab-868c-4a98-d438-18f971a3e33c"
      },
      "execution_count": 18,
      "outputs": [
        {
          "output_type": "execute_result",
          "data": {
            "text/plain": [
              "array([80, 90])"
            ]
          },
          "metadata": {},
          "execution_count": 18
        }
      ]
    },
    {
      "cell_type": "code",
      "source": [
        "arr10+5"
      ],
      "metadata": {
        "colab": {
          "base_uri": "https://localhost:8080/"
        },
        "id": "4b_5O29t1pYc",
        "outputId": "409f037e-7873-4949-f235-35842dc5d9a6"
      },
      "execution_count": 19,
      "outputs": [
        {
          "output_type": "execute_result",
          "data": {
            "text/plain": [
              "array([[15, 17, 19, 21, 23, 25],\n",
              "       [27, 29, 31, 33, 35, 37],\n",
              "       [39, 41, 43, 45, 47, 49],\n",
              "       [51, 53, 55, 57, 59, 61],\n",
              "       [63, 65, 67, 69, 71, 73],\n",
              "       [75, 77, 79, 81, 83, 85]])"
            ]
          },
          "metadata": {},
          "execution_count": 19
        }
      ]
    },
    {
      "cell_type": "code",
      "source": [
        "arr10-5"
      ],
      "metadata": {
        "colab": {
          "base_uri": "https://localhost:8080/"
        },
        "id": "lun7bTmY1ug4",
        "outputId": "fd9cd0db-f9a9-4004-cb6d-974efb4de291"
      },
      "execution_count": 20,
      "outputs": [
        {
          "output_type": "execute_result",
          "data": {
            "text/plain": [
              "array([[ 5,  7,  9, 11, 13, 15],\n",
              "       [17, 19, 21, 23, 25, 27],\n",
              "       [29, 31, 33, 35, 37, 39],\n",
              "       [41, 43, 45, 47, 49, 51],\n",
              "       [53, 55, 57, 59, 61, 63],\n",
              "       [65, 67, 69, 71, 73, 75]])"
            ]
          },
          "metadata": {},
          "execution_count": 20
        }
      ]
    },
    {
      "cell_type": "code",
      "source": [
        "arr10*3"
      ],
      "metadata": {
        "colab": {
          "base_uri": "https://localhost:8080/"
        },
        "id": "-iJmBmFi14K_",
        "outputId": "85d90dee-b427-48c0-88b0-4bf5f6d56364"
      },
      "execution_count": 21,
      "outputs": [
        {
          "output_type": "execute_result",
          "data": {
            "text/plain": [
              "array([[ 30,  36,  42,  48,  54,  60],\n",
              "       [ 66,  72,  78,  84,  90,  96],\n",
              "       [102, 108, 114, 120, 126, 132],\n",
              "       [138, 144, 150, 156, 162, 168],\n",
              "       [174, 180, 186, 192, 198, 204],\n",
              "       [210, 216, 222, 228, 234, 240]])"
            ]
          },
          "metadata": {},
          "execution_count": 21
        }
      ]
    },
    {
      "cell_type": "code",
      "source": [
        "arr10/2\n"
      ],
      "metadata": {
        "colab": {
          "base_uri": "https://localhost:8080/"
        },
        "id": "YHGye46e18pc",
        "outputId": "c4ed809a-7896-4c76-f724-daec8372084c"
      },
      "execution_count": 22,
      "outputs": [
        {
          "output_type": "execute_result",
          "data": {
            "text/plain": [
              "array([[ 5.,  6.,  7.,  8.,  9., 10.],\n",
              "       [11., 12., 13., 14., 15., 16.],\n",
              "       [17., 18., 19., 20., 21., 22.],\n",
              "       [23., 24., 25., 26., 27., 28.],\n",
              "       [29., 30., 31., 32., 33., 34.],\n",
              "       [35., 36., 37., 38., 39., 40.]])"
            ]
          },
          "metadata": {},
          "execution_count": 22
        }
      ]
    },
    {
      "cell_type": "code",
      "source": [
        "arr10[5]=-9\n",
        "arr10"
      ],
      "metadata": {
        "colab": {
          "base_uri": "https://localhost:8080/"
        },
        "id": "1OYU5izI2HSk",
        "outputId": "6b6d03e8-2508-475b-9dff-51a15e765f96"
      },
      "execution_count": 23,
      "outputs": [
        {
          "output_type": "execute_result",
          "data": {
            "text/plain": [
              "array([[10, 12, 14, 16, 18, 20],\n",
              "       [22, 24, 26, 28, 30, 32],\n",
              "       [34, 36, 38, 40, 42, 44],\n",
              "       [46, 48, 50, 52, 54, 56],\n",
              "       [58, 60, 62, 64, 66, 68],\n",
              "       [-9, -9, -9, -9, -9, -9]])"
            ]
          },
          "metadata": {},
          "execution_count": 23
        }
      ]
    },
    {
      "cell_type": "code",
      "source": [
        "arr10=np.abs(arr10)\n",
        "arr10"
      ],
      "metadata": {
        "colab": {
          "base_uri": "https://localhost:8080/"
        },
        "id": "xEFrEZdx2Q50",
        "outputId": "2ba8afa6-3d3d-450c-e6af-02242b8de42a"
      },
      "execution_count": 24,
      "outputs": [
        {
          "output_type": "execute_result",
          "data": {
            "text/plain": [
              "array([[10, 12, 14, 16, 18, 20],\n",
              "       [22, 24, 26, 28, 30, 32],\n",
              "       [34, 36, 38, 40, 42, 44],\n",
              "       [46, 48, 50, 52, 54, 56],\n",
              "       [58, 60, 62, 64, 66, 68],\n",
              "       [ 9,  9,  9,  9,  9,  9]])"
            ]
          },
          "metadata": {},
          "execution_count": 24
        }
      ]
    },
    {
      "cell_type": "code",
      "source": [
        "np.sqrt(arr10)"
      ],
      "metadata": {
        "colab": {
          "base_uri": "https://localhost:8080/"
        },
        "id": "xK1fy1Pk2YvN",
        "outputId": "7f554333-236f-4382-92e4-f00a5fefb4cb"
      },
      "execution_count": 25,
      "outputs": [
        {
          "output_type": "execute_result",
          "data": {
            "text/plain": [
              "array([[3.16227766, 3.46410162, 3.74165739, 4.        , 4.24264069,\n",
              "        4.47213595],\n",
              "       [4.69041576, 4.89897949, 5.09901951, 5.29150262, 5.47722558,\n",
              "        5.65685425],\n",
              "       [5.83095189, 6.        , 6.164414  , 6.32455532, 6.4807407 ,\n",
              "        6.63324958],\n",
              "       [6.78232998, 6.92820323, 7.07106781, 7.21110255, 7.34846923,\n",
              "        7.48331477],\n",
              "       [7.61577311, 7.74596669, 7.87400787, 8.        , 8.1240384 ,\n",
              "        8.24621125],\n",
              "       [3.        , 3.        , 3.        , 3.        , 3.        ,\n",
              "        3.        ]])"
            ]
          },
          "metadata": {},
          "execution_count": 25
        }
      ]
    },
    {
      "cell_type": "code",
      "source": [
        "arr10.T"
      ],
      "metadata": {
        "colab": {
          "base_uri": "https://localhost:8080/"
        },
        "id": "-CIBdHUD2faF",
        "outputId": "570b19e8-c9db-44aa-c73a-b4e94b8b3fee"
      },
      "execution_count": 26,
      "outputs": [
        {
          "output_type": "execute_result",
          "data": {
            "text/plain": [
              "array([[10, 22, 34, 46, 58,  9],\n",
              "       [12, 24, 36, 48, 60,  9],\n",
              "       [14, 26, 38, 50, 62,  9],\n",
              "       [16, 28, 40, 52, 64,  9],\n",
              "       [18, 30, 42, 54, 66,  9],\n",
              "       [20, 32, 44, 56, 68,  9]])"
            ]
          },
          "metadata": {},
          "execution_count": 26
        }
      ]
    },
    {
      "cell_type": "code",
      "source": [
        "np.random.rand(2,3)"
      ],
      "metadata": {
        "colab": {
          "base_uri": "https://localhost:8080/"
        },
        "id": "cvCdk_Av2sZc",
        "outputId": "b8ec9ea0-2017-44b9-c0a7-a70c448eddd8"
      },
      "execution_count": 29,
      "outputs": [
        {
          "output_type": "execute_result",
          "data": {
            "text/plain": [
              "array([[0.13632864, 0.84754623, 0.32617802],\n",
              "       [0.27170929, 0.6657412 , 0.36481311]])"
            ]
          },
          "metadata": {},
          "execution_count": 29
        }
      ]
    },
    {
      "cell_type": "code",
      "source": [],
      "metadata": {
        "id": "gYYDGHXs2ybE"
      },
      "execution_count": null,
      "outputs": []
    }
  ]
}